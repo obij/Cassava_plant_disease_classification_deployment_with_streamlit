{
 "cells": [
  {
   "cell_type": "code",
   "execution_count": null,
   "metadata": {},
   "outputs": [],
   "source": [
    "#This code should be ran from google colab\n",
    "from google.colab import drive  # type: ignore\n",
    "drive.mount('/content/drive')"
   ]
  },
  {
   "attachments": {},
   "cell_type": "markdown",
   "metadata": {},
   "source": [
    "<h4>Let's import the required packages<h4>"
   ]
  },
  {
   "cell_type": "code",
   "execution_count": null,
   "metadata": {},
   "outputs": [],
   "source": [
    "from tensorflow import keras\n",
    "from keras.models import Sequential\n",
    "from keras.layers import Conv2D, MaxPooling2D, Dense, Flatten, Dropout, BatchNormalization\n",
    "from keras.preprocessing.image import ImageDataGenerator\n",
    "import pandas as pd"
   ]
  },
  {
   "attachments": {},
   "cell_type": "markdown",
   "metadata": {},
   "source": [
    "<h4>Load the pandas dataframe</h4>"
   ]
  },
  {
   "cell_type": "code",
   "execution_count": null,
   "metadata": {},
   "outputs": [],
   "source": [
    "df_train= pd.read_csv(\"drive/MyDrive/cassava-leaf-disease-classification/train.csv\")\n",
    "df_train['label']= df_train['label'].astype(str)\n",
    "df_train.head()"
   ]
  },
  {
   "cell_type": "code",
   "execution_count": null,
   "metadata": {},
   "outputs": [],
   "source": [
    "import os;\n",
    "print(os.getcwd())\n"
   ]
  },
  {
   "attachments": {},
   "cell_type": "markdown",
   "metadata": {},
   "source": [
    "<h2><b>Data Visualization</b></h2>\n",
    "<h4>Diseases and their classes</h4>"
   ]
  },
  {
   "cell_type": "code",
   "execution_count": null,
   "metadata": {},
   "outputs": [],
   "source": [
    "#data Visualization\n",
    "import matplotlib.pyplot as plt\n",
    "\n",
    "# Creating data\n",
    "year = df_train['DiseaseName']\n",
    "production = df_train['label']\n",
    "\n",
    "# Plotting barchart\n",
    "plt.bar(year, production)\n",
    "\n",
    "# Saving the figure.\n",
    "plt.savefig(\"output.jpg\")\n",
    "\n",
    "# Saving figure by changing parameter values\n",
    "plt.savefig(\"output1\", facecolor='y', bbox_inches=\"tight\",\n",
    "\t\t\tpad_inches=0.3, transparent=True)\n"
   ]
  },
  {
   "attachments": {},
   "cell_type": "markdown",
   "metadata": {},
   "source": [
    "<h4>Number of images in each class</h4>"
   ]
  },
  {
   "cell_type": "code",
   "execution_count": null,
   "metadata": {},
   "outputs": [],
   "source": [
    "ax = df_train['DiseaseName'].value_counts().plot(kind='bar',figsize=(14,8), title=\"Dataset Disease Population by Class\")\n",
    "ax.set_xlabel(\"Disease Types\")\n",
    "ax.set_ylabel(\"Num of Images\")\n",
    "plt.show()"
   ]
  },
  {
   "cell_type": "code",
   "execution_count": null,
   "metadata": {},
   "outputs": [],
   "source": [
    "plt.figure(figsize=(8,8))\n",
    "country_data = df_train[\"label\"]\n",
    "medal_data = df_train.groupby(df_train[\"DiseaseName\"])['label'].count()\n",
    "colors = [\"#1f77b4\", \"#ff7f0e\", \"#2ca02c\", \"#d62728\", \"#8c564b\"]\n",
    "explode = (0, 0, 0, 0.09, 0)  \n",
    "plt.pie(medal_data, labels=medal_data.index, colors=colors, explode =explode, autopct = '%1.1f%%', startangle=15)\n",
    "plt.title(\"Pie Chart of Diseases\\n\"+\"and their frequency\")\n",
    "plt.show()"
   ]
  },
  {
   "cell_type": "code",
   "execution_count": null,
   "metadata": {},
   "outputs": [],
   "source": [
    "medal_data = df_train.groupby(df_train[\"DiseaseName\"])['label'].count()\n",
    "\n",
    "medal_data"
   ]
  },
  {
   "attachments": {},
   "cell_type": "markdown",
   "metadata": {},
   "source": [
    "<h2><b>Initialize keras' ImageDataGenerator class</b></h2>"
   ]
  },
  {
   "cell_type": "code",
   "execution_count": null,
   "metadata": {},
   "outputs": [],
   "source": [
    "src_path_train= \"drive/MyDrive/cassava-leaf-disease-classification/train_images\"\n",
    "train_datagen = ImageDataGenerator(\n",
    "        rescale=1 / 255.0,\n",
    "        rotation_range=20,\n",
    "        zoom_range=0.05,\n",
    "        width_shift_range=0.05,\n",
    "        height_shift_range=0.05,\n",
    "        shear_range=0.05,\n",
    "        horizontal_flip=True,\n",
    "        fill_mode=\"nearest\",\n",
    "        validation_split=0.20)\n",
    "\n",
    "#validation_datagen2 = ImageDataGenerator(validation_split= 0.20)"
   ]
  },
  {
   "attachments": {},
   "cell_type": "markdown",
   "metadata": {},
   "source": [
    "<h2><b>Initialize the training and validation generator</b></h2>"
   ]
  },
  {
   "cell_type": "code",
   "execution_count": null,
   "metadata": {},
   "outputs": [],
   "source": [
    "batch_size= 32\n",
    "train_generator = train_datagen.flow_from_dataframe(\n",
    "    dataframe=df_train,\n",
    "    directory=src_path_train,\n",
    "    x_col=\"image_id\",\n",
    "    y_col=\"label\",\n",
    "    target_size=(128, 128),\n",
    "    batch_size=batch_size,\n",
    "    class_mode=\"sparse\",\n",
    "    subset='training',\n",
    "    shuffle=True,\n",
    "    seed=42\n",
    ")\n",
    "\n",
    "validation_generator = train_datagen.flow_from_dataframe(\n",
    "    dataframe=df_train,\n",
    "    directory=src_path_train,\n",
    "    x_col=\"image_id\",\n",
    "    y_col=\"label\",\n",
    "    target_size=(128,128),\n",
    "    batch_size=batch_size,\n",
    "    class_mode=\"sparse\",\n",
    "    subset='validation',\n",
    "    shuffle=True,\n",
    "    seed=42\n",
    ")\n"
   ]
  },
  {
   "attachments": {},
   "cell_type": "markdown",
   "metadata": {},
   "source": [
    "<h2><b>Defining the CNN</b></h2>"
   ]
  },
  {
   "cell_type": "code",
   "execution_count": null,
   "metadata": {},
   "outputs": [],
   "source": [
    "activation = 'sigmoid'\n",
    "model = Sequential()\n",
    "model.add(Conv2D(32, 3, activation = activation, padding = 'same', input_shape = (128, 128, 3)))\n",
    "model.add(BatchNormalization())\n",
    "model.add(MaxPooling2D())\n",
    "\n",
    "model.add(Conv2D(64, 3, activation = activation, padding = 'same', kernel_initializer = 'he_uniform'))\n",
    "model.add(BatchNormalization())\n",
    "model.add(MaxPooling2D())\n",
    "\n",
    "model.add(Conv2D(64, 3, activation = activation, padding = 'same', kernel_initializer = 'he_uniform'))\n",
    "model.add(BatchNormalization())\n",
    "model.add(MaxPooling2D(2,2))\n",
    "\n",
    "model.add(Conv2D(256, 3, padding='Same', activation=activation, kernel_initializer= 'he_uniform'))\n",
    "model.add(BatchNormalization())\n",
    "model.add(MaxPooling2D(2,2))\n",
    "\n",
    "model.add(Conv2D(256, 3, padding='Same', activation=activation, kernel_initializer= 'he_uniform'))\n",
    "model.add(BatchNormalization())\n",
    "model.add(MaxPooling2D(2,2))\n",
    "\n",
    "\n",
    "model.add(Conv2D(512, 4, activation = activation, padding = 'same', kernel_initializer = 'he_uniform'))\n",
    "model.add(BatchNormalization()) \n",
    "model.add(MaxPooling2D())\n",
    "\n",
    "model.add(Flatten())\n",
    "model.add(Dense(128, activation = activation, kernel_initializer = 'he_uniform'))\n",
    "model.add(Dense(5, activation = 'softmax'))\n",
    "\n",
    "model.compile(optimizer = 'rmsprop',loss = 'sparse_categorical_crossentropy', metrics = ['accuracy'])\n",
    "print(model.summary()) "
   ]
  },
  {
   "attachments": {},
   "cell_type": "markdown",
   "metadata": {},
   "source": [
    "<h2><b>Training our model using fit_generator</b></h2>"
   ]
  },
  {
   "cell_type": "code",
   "execution_count": null,
   "metadata": {},
   "outputs": [],
   "source": [
    "history= model.fit_generator(train_generator,\n",
    "                    validation_data= validation_generator,\n",
    "                    steps_per_epoch= len(df_train) * 0.8/batch_size,\n",
    "                    validation_steps= len(df_train) * 0.2/batch_size,\n",
    "                    epochs= 20)"
   ]
  },
  {
   "attachments": {},
   "cell_type": "markdown",
   "metadata": {},
   "source": [
    "<h2><b>Save model</b></h2>"
   ]
  },
  {
   "cell_type": "code",
   "execution_count": null,
   "metadata": {},
   "outputs": [],
   "source": [
    "# save model and architecture to single file\n",
    "model.save(\"model.h5\")\n",
    "print(\"Saved model to disk\")"
   ]
  },
  {
   "attachments": {},
   "cell_type": "markdown",
   "metadata": {},
   "source": [
    "<h2><b>Plotting the accuracy and loss graphs for the training</b></h2>"
   ]
  },
  {
   "cell_type": "code",
   "execution_count": null,
   "metadata": {},
   "outputs": [],
   "source": [
    "#Plot the Graph\n",
    "from matplotlib import pyplot as plt\n",
    "accuracy = history.history['accuracy']\n",
    "val_accuracy = history.history['val_accuracy']\n",
    "loss = history.history['loss']\n",
    "val_loss = history.history['val_loss']\n",
    "\n",
    "\n",
    "# Loss Curves\n",
    "plt.figure(figsize=[8,6])\n",
    "plt.plot(loss,'r',linewidth=3.0)\n",
    "plt.plot(val_loss,'b',linewidth=3.0)\n",
    "plt.legend(['Training loss', 'Validation Loss'],fontsize=18)\n",
    "plt.xlabel('Epochs ',fontsize=16)\n",
    "plt.ylabel('Loss',fontsize=16)\n",
    "plt.title('Loss Curves',fontsize=16)\n",
    "  \n",
    "# Accuracy Curves\n",
    "plt.figure(figsize=[8,6])\n",
    "plt.plot(accuracy,'r',linewidth=3.0)\n",
    "plt.plot(val_accuracy,'b',linewidth=3.0)\n",
    "plt.legend(['Training Accuracy', 'Validation Accuracy'],fontsize=18)\n",
    "plt.xlabel('Epochs ',fontsize=16)\n",
    "plt.ylabel('Accuracy',fontsize=16)\n",
    "plt.title('Accuracy Curves',fontsize=16)"
   ]
  },
  {
   "attachments": {},
   "cell_type": "markdown",
   "metadata": {},
   "source": [
    "<h2><b>An attempt to improve on the initial CNN model using the EfficientNetB4 transfer learning model</b></h2>"
   ]
  },
  {
   "cell_type": "code",
   "execution_count": null,
   "metadata": {},
   "outputs": [],
   "source": [
    "from tensorflow.keras.preprocessing.image import ImageDataGenerator  # type: ignore\n",
    "from keras.callbacks import ModelCheckpoint, EarlyStopping, ReduceLROnPlateau, TensorBoard\n",
    "from tensorflow.keras.applications import EfficientNetB4  # type: ignore\n",
    "from keras.optimizers import Adam\n",
    "from tensorflow.keras import models, layers  # type: ignore\n",
    "\n",
    "\n",
    "model = models.Sequential()\n",
    "model.add(EfficientNetB4(include_top = False, weights = 'imagenet',\n",
    "                             input_shape = (128, 128, 3)))\n",
    "    \n",
    "model.add(layers.GlobalAveragePooling2D())\n",
    "model.add(layers.Dense(5, activation = \"softmax\"))\n",
    "\n",
    "model.compile(optimizer = Adam(lr = 0.001),\n",
    "                  loss = \"sparse_categorical_crossentropy\",\n",
    "                  metrics = [\"acc\"])\n",
    "\n",
    "model.summary()"
   ]
  },
  {
   "attachments": {},
   "cell_type": "markdown",
   "metadata": {},
   "source": [
    "<h4>Intermediate steps</h4>"
   ]
  },
  {
   "cell_type": "code",
   "execution_count": null,
   "metadata": {},
   "outputs": [],
   "source": [
    "import datetime\n",
    "import tensorflow as tf\n",
    "log_dir = \"logs/fit/\" + datetime.datetime.now().strftime(\"%Y%m%d-%H%M%S\")\n",
    "\n",
    "tensorboard_callback = tf.keras.callbacks.TensorBoard(log_dir=log_dir, histogram_freq=1)\n",
    "model_save = ModelCheckpoint('./best_baseline_model.h5', \n",
    "                             save_best_only = True, \n",
    "                             save_weights_only = True,\n",
    "                             monitor = 'val_loss', \n",
    "                             mode = 'min', verbose = 1)\n",
    "early_stop = EarlyStopping(monitor = 'val_loss', min_delta = 0.001, \n",
    "                           patience = 5, mode = 'min', verbose = 1,\n",
    "                           restore_best_weights = True)\n",
    "reduce_lr = ReduceLROnPlateau(monitor = 'val_loss', factor = 0.3, \n",
    "                              patience = 2, min_delta = 0.001, \n",
    "                              mode = 'min', verbose = 1)\n",
    "\n"
   ]
  },
  {
   "attachments": {},
   "cell_type": "markdown",
   "metadata": {},
   "source": [
    "<h4>The training</h4>"
   ]
  },
  {
   "cell_type": "code",
   "execution_count": null,
   "metadata": {},
   "outputs": [],
   "source": [
    "\n",
    "history= model.fit_generator(train_generator,\n",
    "                    validation_data= validation_generator,\n",
    "                    steps_per_epoch= len(df_train) * 0.8/batch_size,\n",
    "                    validation_steps= len(df_train) * 0.2/batch_size,\n",
    "                    epochs= 20,\n",
    "                    callbacks = [tensorboard_callback,model_save, early_stop, reduce_lr])"
   ]
  },
  {
   "cell_type": "code",
   "execution_count": null,
   "metadata": {},
   "outputs": [],
   "source": [
    "#Plot the Graph\n",
    "from matplotlib import pyplot as plt\n",
    "accuracy = history.history['acc']\n",
    "val_accuracy = history.history['val_acc']\n",
    "loss = history.history['loss']\n",
    "val_loss = history.history['val_loss']\n",
    "\n",
    "\n",
    "# Loss Curves\n",
    "plt.figure(figsize=[8,6])\n",
    "plt.plot(loss,'r',linewidth=3.0)\n",
    "plt.plot(val_loss,'b',linewidth=3.0)\n",
    "plt.legend(['Training loss', 'Validation Loss'],fontsize=18)\n",
    "plt.xlabel('Epochs ',fontsize=16)\n",
    "plt.ylabel('Loss',fontsize=16)\n",
    "plt.title('Loss Curves',fontsize=16)\n",
    "  \n",
    "# Accuracy Curves\n",
    "plt.figure(figsize=[8,6])\n",
    "plt.plot(accuracy,'r',linewidth=3.0)\n",
    "plt.plot(val_accuracy,'b',linewidth=3.0)\n",
    "plt.legend(['Training Accuracy', 'Validation Accuracy'],fontsize=18)\n",
    "plt.xlabel('Epochs ',fontsize=16)\n",
    "plt.ylabel('Accuracy',fontsize=16)\n",
    "plt.title('Accuracy Curves',fontsize=16)"
   ]
  },
  {
   "attachments": {},
   "cell_type": "markdown",
   "metadata": {},
   "source": [
    "<h2><b>Using the VGG16 Transfer learning model</b2></h2>"
   ]
  },
  {
   "cell_type": "code",
   "execution_count": null,
   "metadata": {},
   "outputs": [],
   "source": [
    "from tensorflow.keras.preprocessing.image import ImageDataGenerator    # type: ignore\n",
    "from keras.callbacks import ModelCheckpoint, EarlyStopping, ReduceLROnPlateau, TensorBoard\n",
    "from tensorflow.keras.applications import VGG16   # type: ignore\n",
    "from keras.optimizers import Adam\n",
    "from tensorflow.keras import models, layers # type: ignore \n",
    "\n",
    "\n",
    "model1 = models.Sequential()\n",
    "model1.add(VGG16(include_top = False, weights = 'imagenet',\n",
    "                             input_shape = (128, 128, 3)))\n",
    "    \n",
    "model1.add(layers.GlobalAveragePooling2D())\n",
    "model1.add(layers.Dense(5, activation = \"softmax\"))\n",
    "\n",
    "model1.compile(optimizer = Adam(lr = 0.001),\n",
    "                  loss = \"sparse_categorical_crossentropy\",\n",
    "                  metrics = [\"acc\"])\n",
    "\n",
    "model1.summary()"
   ]
  },
  {
   "attachments": {},
   "cell_type": "markdown",
   "metadata": {},
   "source": [
    "<h4>Intermediate steps</h4>"
   ]
  },
  {
   "cell_type": "code",
   "execution_count": null,
   "metadata": {},
   "outputs": [],
   "source": [
    "import datetime\n",
    "import tensorflow as tf\n",
    "log_dir = \"logs/fit/\" + datetime.datetime.now().strftime(\"%Y%m%d-%H%M%S\")\n",
    "\n",
    "tensorboard_callback1 = tf.keras.callbacks.TensorBoard(log_dir=log_dir, histogram_freq=1)\n",
    "model1_save = ModelCheckpoint('./best_baseline_model1.h5', \n",
    "                             save_best_only = True, \n",
    "                             save_weights_only = True,\n",
    "                             monitor = 'val_loss', \n",
    "                             mode = 'min', verbose = 1)\n",
    "early_stop1 = EarlyStopping(monitor = 'val_loss', min_delta = 0.001, \n",
    "                           patience = 5, mode = 'min', verbose = 1,\n",
    "                           restore_best_weights = True)\n",
    "reduce_lr1 = ReduceLROnPlateau(monitor = 'val_loss', factor = 0.3, \n",
    "                              patience = 2, min_delta = 0.001, \n",
    "                              mode = 'min', verbose = 1)"
   ]
  },
  {
   "attachments": {},
   "cell_type": "markdown",
   "metadata": {},
   "source": [
    "<h4>The training and plots</h4>"
   ]
  },
  {
   "cell_type": "code",
   "execution_count": null,
   "metadata": {},
   "outputs": [],
   "source": [
    "history= model1.fit_generator(train_generator,\n",
    "                    validation_data= validation_generator,\n",
    "                    steps_per_epoch= len(df_train) * 0.8/batch_size,\n",
    "                    validation_steps= len(df_train) * 0.2/batch_size,\n",
    "                    epochs= 20,\n",
    "                    callbacks = [tensorboard_callback1,model1_save, early_stop1, reduce_lr1])\n",
    "\n",
    "#Plot the Graph\n",
    "from matplotlib import pyplot as plt\n",
    "accuracy = history.history['acc']\n",
    "val_accuracy = history.history['val_acc']\n",
    "loss = history.history['loss']\n",
    "val_loss = history.history['val_loss']\n",
    "\n",
    "\n",
    "# Loss Curves\n",
    "plt.figure(figsize=[8,6])\n",
    "plt.plot(loss,'r',linewidth=3.0)\n",
    "plt.plot(val_loss,'b',linewidth=3.0)\n",
    "plt.legend(['Training loss', 'Validation Loss'],fontsize=18)\n",
    "plt.xlabel('Epochs ',fontsize=16)\n",
    "plt.ylabel('Loss',fontsize=16)\n",
    "plt.title('Loss Curves',fontsize=16)\n",
    "  \n",
    "# Accuracy Curves\n",
    "plt.figure(figsize=[8,6])\n",
    "plt.plot(accuracy,'r',linewidth=3.0)\n",
    "plt.plot(val_accuracy,'b',linewidth=3.0)\n",
    "plt.legend(['Training Accuracy', 'Validation Accuracy'],fontsize=18)\n",
    "plt.xlabel('Epochs ',fontsize=16)\n",
    "plt.ylabel('Accuracy',fontsize=16)\n",
    "plt.title('Accuracy Curves',fontsize=16)"
   ]
  },
  {
   "attachments": {},
   "cell_type": "markdown",
   "metadata": {},
   "source": [
    "<h2><b>Using the inception V3 Transfer learning model</b></h>"
   ]
  },
  {
   "cell_type": "code",
   "execution_count": null,
   "metadata": {},
   "outputs": [],
   "source": [
    "from tensorflow.keras.preprocessing.image import ImageDataGenerator  # type: ignore\n",
    "from keras.callbacks import ModelCheckpoint, EarlyStopping, ReduceLROnPlateau, TensorBoard\n",
    "from tensorflow.keras.applications import InceptionV3    # type: ignore\n",
    "from keras.optimizers import Adam\n",
    "from tensorflow.keras import models, layers  # type: ignore\n",
    "\n",
    "\n",
    "model3 = models.Sequential()\n",
    "model3.add(InceptionV3(include_top = False, weights = 'imagenet',\n",
    "                             input_shape = (128, 128, 3)))\n",
    "    \n",
    "model3.add(layers.GlobalAveragePooling2D())\n",
    "model3.add(layers.Dense(5, activation = \"softmax\"))\n",
    "\n",
    "model3.compile(optimizer = Adam(lr = 0.001),\n",
    "                  loss = \"sparse_categorical_crossentropy\",\n",
    "                  metrics = [\"acc\"])\n",
    "\n",
    "model3.summary()"
   ]
  },
  {
   "attachments": {},
   "cell_type": "markdown",
   "metadata": {},
   "source": [
    "<h4>Intermediate steps</h4>"
   ]
  },
  {
   "cell_type": "code",
   "execution_count": null,
   "metadata": {},
   "outputs": [],
   "source": [
    "import datetime\n",
    "import tensorflow as tf\n",
    "log_dir = \"logs/fit/\" + datetime.datetime.now().strftime(\"%Y%m%d-%H%M%S\")\n",
    "\n",
    "tensorboard_callback3 = tf.keras.callbacks.TensorBoard(log_dir=log_dir, histogram_freq=1)\n",
    "model3_save = ModelCheckpoint('./best_baseline_model2.h5', \n",
    "                             save_best_only = True, \n",
    "                             save_weights_only = True,\n",
    "                             monitor = 'val_loss', \n",
    "                             mode = 'min', verbose = 1)\n",
    "early_stop3 = EarlyStopping(monitor = 'val_loss', min_delta = 0.001, \n",
    "                           patience = 5, mode = 'min', verbose = 1,\n",
    "                           restore_best_weights = True)\n",
    "reduce_lr3 = ReduceLROnPlateau(monitor = 'val_loss', factor = 0.3, \n",
    "                              patience = 2, min_delta = 0.001, \n",
    "                              mode = 'min', verbose = 1)"
   ]
  },
  {
   "attachments": {},
   "cell_type": "markdown",
   "metadata": {},
   "source": [
    "<h4>The training and plots</h4>"
   ]
  },
  {
   "cell_type": "code",
   "execution_count": null,
   "metadata": {},
   "outputs": [],
   "source": [
    "history= model3.fit_generator(train_generator,\n",
    "                    validation_data= validation_generator,\n",
    "                    steps_per_epoch= len(df_train) * 0.8/batch_size,\n",
    "                    validation_steps= len(df_train) * 0.2/batch_size,\n",
    "                    epochs= 20,\n",
    "                    callbacks = [tensorboard_callback3,model3_save, early_stop3, reduce_lr3])\n",
    "\n",
    "#Plot the Graph\n",
    "from matplotlib import pyplot as plt\n",
    "accuracy = history.history['acc']\n",
    "val_accuracy = history.history['val_acc']\n",
    "loss = history.history['loss']\n",
    "val_loss = history.history['val_loss']\n",
    "\n",
    "\n",
    "# Loss Curves\n",
    "plt.figure(figsize=[8,6])\n",
    "plt.plot(loss,'r',linewidth=3.0)\n",
    "plt.plot(val_loss,'b',linewidth=3.0)\n",
    "plt.legend(['Training loss', 'Validation Loss'],fontsize=18)\n",
    "plt.xlabel('Epochs ',fontsize=16)\n",
    "plt.ylabel('Loss',fontsize=16)\n",
    "plt.title('Loss Curves',fontsize=16)\n",
    "  \n",
    "# Accuracy Curves\n",
    "\n",
    "\n",
    "plt.figure(figsize=[8,6])\n",
    "plt.plot(accuracy,'r',linewidth=3.0)\n",
    "plt.plot(val_accuracy,'b',linewidth=3.0)\n",
    "plt.legend(['Training Accuracy', 'Validation Accuracy'],fontsize=18)\n",
    "plt.xlabel('Epochs ',fontsize=16)\n",
    "plt.ylabel('Accuracy',fontsize=16)\n",
    "plt.title('Accuracy Curves',fontsize=16)"
   ]
  },
  {
   "attachments": {},
   "cell_type": "markdown",
   "metadata": {},
   "source": [
    "<h4>The below code saves the images in the first dataset to different folders/classes</h4>"
   ]
  },
  {
   "cell_type": "code",
   "execution_count": null,
   "metadata": {},
   "outputs": [],
   "source": [
    "dataset_dir = \"drive/MyDrive/cassava-leaf-disease-classification\"\n",
    "train_dir= dataset_dir + \"/train_images/\"\n",
    "\n",
    "CBB = \"/train_imgs_folder/CBB\"\n",
    "CBSD= \"/train_imgs_folder/CBSD\"\n",
    "CGM= \"/train_imgs_folder/CGM\"\n",
    "CMD= \"/train_imgs_folder/CMD\"\n",
    "H=  \"/train_imgs_folder/H\""
   ]
  },
  {
   "cell_type": "code",
   "execution_count": null,
   "metadata": {},
   "outputs": [],
   "source": [
    "# This code should only be called once to save the images to the five folders inside train_imgs_folder and that is after you have manually \n",
    "# created the train_imgs_folder and the five folders inside it, in your working drive in googlen drive\n",
    "import cv2\n",
    "for index, row in df_train.iterrows():\n",
    "  label= row['label']\n",
    "  if label== '0':\n",
    "    #save to 0/CBB folder\n",
    "    image_name= row['image_id']\n",
    "    path= train_dir + image_name\n",
    "    image= cv2.imread(path)\n",
    "    #cv2.imwrite(dataset_dir + CBB + '/' + image_name, image)\n",
    "\n",
    "  elif label == '1':\n",
    "    #save to 1/CBSD folder\n",
    "    image_name= row['image_id']\n",
    "    path= train_dir + image_name\n",
    "    image= cv2.imread(path)\n",
    "    cv2.imwrite(dataset_dir + CBSD + '/' + image_name, image)\n",
    "\n",
    "  elif label == '2':\n",
    "    #save to 2/CGM folder\n",
    "    image_name= row['image_id']\n",
    "    path= train_dir + image_name\n",
    "    image= cv2.imread(path)\n",
    "    cv2.imwrite(dataset_dir + CGM + '/' + image_name, image)\n",
    "\n",
    "  elif label == '3':\n",
    "    #savre to 3/CMD folder\n",
    "    image_name= row['image_id']\n",
    "    path= train_dir + image_name\n",
    "    image= cv2.imread(path)\n",
    "    cv2.imwrite(dataset_dir + CMD + '/' + image_name, image)\n",
    "\n",
    "  elif label == '4':\n",
    "    # save to H/4 folder\n",
    "    image_name= row['image_id']\n",
    "    path= train_dir + image_name\n",
    "    image= cv2.imread(path)\n",
    "    cv2.imwrite(dataset_dir + H + '/' + image_name, image)\n"
   ]
  },
  {
   "attachments": {},
   "cell_type": "markdown",
   "metadata": {},
   "source": [
    "<h4>The code for this section was inspired by codebasics code from this link https://github.com/codebasics/potato-disease-classification/blob/main/training/potato-disease-classification-model.ipynb</h4>"
   ]
  },
  {
   "attachments": {},
   "cell_type": "markdown",
   "metadata": {},
   "source": [
    "<h2><b>Using the ResNet50 transfer learning model</b></h2>"
   ]
  },
  {
   "attachments": {},
   "cell_type": "markdown",
   "metadata": {},
   "source": [
    "<h4>Import data into tensorflow dataset object</h4>"
   ]
  },
  {
   "cell_type": "code",
   "execution_count": null,
   "metadata": {},
   "outputs": [],
   "source": [
    "directory= \"drive/MyDrive/cassava-leaf-disease-classification/train_images\"\n",
    "dataset = tf.keras.preprocessing.image_dataset_from_directory(\n",
    "    directory,\n",
    "    seed=123,\n",
    "    shuffle=True,\n",
    "    image_size=(128, 128),\n",
    "    batch_size=32\n",
    ")"
   ]
  },
  {
   "cell_type": "code",
   "execution_count": null,
   "metadata": {},
   "outputs": [],
   "source": [
    "class_names = dataset.class_names\n",
    "class_names"
   ]
  },
  {
   "attachments": {},
   "cell_type": "markdown",
   "metadata": {},
   "source": [
    "<h4>Function to Split Dataset</h4>"
   ]
  },
  {
   "cell_type": "code",
   "execution_count": null,
   "metadata": {},
   "outputs": [],
   "source": [
    "def get_dataset_partitions_tf(ds, train_split=0.8, val_split=0.1, test_split=0.1, shuffle=True, shuffle_size=10000):\n",
    "    assert (train_split + test_split + val_split) == 1\n",
    "    \n",
    "    ds_size = len(ds)\n",
    "    \n",
    "    if shuffle:\n",
    "        ds = ds.shuffle(shuffle_size, seed=12)\n",
    "    \n",
    "    train_size = int(train_split * ds_size)\n",
    "    val_size = int(val_split * ds_size)\n",
    "    \n",
    "    train_ds = ds.take(train_size)    \n",
    "    val_ds = ds.skip(train_size).take(val_size)\n",
    "    test_ds = ds.skip(train_size).skip(val_size)\n",
    "    \n",
    "    return train_ds, val_ds, test_ds"
   ]
  },
  {
   "cell_type": "code",
   "execution_count": null,
   "metadata": {},
   "outputs": [],
   "source": [
    "train_ds, val_ds, test_ds = get_dataset_partitions_tf(dataset)"
   ]
  },
  {
   "attachments": {},
   "cell_type": "markdown",
   "metadata": {},
   "source": [
    "Cache, Shuffle, and Prefetch the Dataset"
   ]
  },
  {
   "cell_type": "code",
   "execution_count": null,
   "metadata": {},
   "outputs": [],
   "source": [
    "train_ds = train_ds.cache().shuffle(1000).prefetch(buffer_size=tf.data.AUTOTUNE)\n",
    "val_ds = val_ds.cache().shuffle(1000).prefetch(buffer_size=tf.data.AUTOTUNE)\n",
    "test_ds = test_ds.cache().shuffle(1000).prefetch(buffer_size=tf.data.AUTOTUNE)"
   ]
  },
  {
   "cell_type": "code",
   "execution_count": null,
   "metadata": {},
   "outputs": [],
   "source": [
    "from keras.callbacks import ModelCheckpoint, EarlyStopping, ReduceLROnPlateau, TensorBoard\n",
    "from tensorflow.keras.applications import ResNet50 # type: ignore\n",
    "from keras.optimizers import Adam\n",
    "from tensorflow.keras import models, layers # type: ignore\n",
    "\n",
    "\n",
    "model2 = models.Sequential()\n",
    "model2.add(ResNet50(include_top = False, weights = 'imagenet',\n",
    "                             input_shape = (128, 128, 3)))\n",
    "    \n",
    "model2.add(layers.GlobalAveragePooling2D())\n",
    "model2.add(layers.Dense(5, activation = \"softmax\"))\n",
    "\n",
    "model2.compile(optimizer = Adam(lr = 0.001),\n",
    "                  loss = \"sparse_categorical_crossentropy\",\n",
    "                  metrics = [\"acc\"])\n",
    "\n",
    "model2.summary()"
   ]
  },
  {
   "cell_type": "code",
   "execution_count": null,
   "metadata": {},
   "outputs": [],
   "source": [
    "import datetime\n",
    "import tensorflow as tf\n",
    "log_dir = \"logs/fit/\" + datetime.datetime.now().strftime(\"%Y%m%d-%H%M%S\")\n",
    "\n",
    "tensorboard_callback2 = tf.keras.callbacks.TensorBoard(log_dir=log_dir, histogram_freq=1)\n",
    "model2_save = ModelCheckpoint('./best_baseline_model2.h5', \n",
    "                             save_best_only = True, \n",
    "                             save_weights_only = True,\n",
    "                             monitor = 'val_loss', \n",
    "                             mode = 'min', verbose = 1)\n",
    "early_stop2 = EarlyStopping(monitor = 'val_loss', min_delta = 0.001, \n",
    "                           patience = 5, mode = 'min', verbose = 1,\n",
    "                           restore_best_weights = True)\n",
    "reduce_lr2 = ReduceLROnPlateau(monitor = 'val_loss', factor = 0.3, \n",
    "                              patience = 2, min_delta = 0.001, \n",
    "                              mode = 'min', verbose = 1)"
   ]
  },
  {
   "attachments": {},
   "cell_type": "markdown",
   "metadata": {},
   "source": [
    "the training and plots"
   ]
  },
  {
   "cell_type": "code",
   "execution_count": null,
   "metadata": {},
   "outputs": [],
   "source": [
    "history= model2.fit(train_ds,\n",
    "                    validation_data= val_ds,\n",
    "                    batch_size=32,\n",
    "                    #steps_per_epoch= len(df_train) * 0.8/BATCH_SIZE,\n",
    "                    #validation_steps= len(df_train) * 0.2/BATCH_SIZE,\n",
    "                    verbose=1,\n",
    "                    epochs= 30,\n",
    "                    callbacks = [tensorboard_callback2, model2_save, early_stop2, reduce_lr2])\n",
    "\n",
    "\n",
    "# Save the entire model as a SavedModel.\n",
    "#!mkdir -p saved_model\n",
    "model2.save(\"drive/MyDrive/cassava-leaf-disease-classification/saved_model/my_model\")"
   ]
  },
  {
   "cell_type": "code",
   "execution_count": null,
   "metadata": {},
   "outputs": [],
   "source": [
    "#Plot the Graph\n",
    "accuracy = history.history['acc']\n",
    "val_accuracy = history.history['val_acc']\n",
    "loss = history.history['loss']\n",
    "val_loss = history.history['val_loss']\n",
    "\n",
    "\n",
    "# Loss Curves\n",
    "plt.figure(figsize=[8,6])\n",
    "plt.plot(loss,'r',linewidth=3.0)\n",
    "plt.plot(val_loss,'b',linewidth=3.0)\n",
    "plt.legend(['Training loss', 'Validation Loss'],fontsize=18)\n",
    "plt.xlabel('Epochs ',fontsize=16)\n",
    "plt.ylabel('Loss',fontsize=16)\n",
    "plt.title('Loss Curves',fontsize=16)\n",
    "  \n",
    "# Accuracy Curves\n",
    "plt.figure(figsize=[8,6])\n",
    "plt.plot(accuracy,'r',linewidth=3.0)\n",
    "plt.plot(val_accuracy,'b',linewidth=3.0)\n",
    "plt.legend(['Training Accuracy', 'Validation Accuracy'],fontsize=18)\n",
    "plt.xlabel('Epochs ',fontsize=16)\n",
    "plt.ylabel('Accuracy',fontsize=16)\n",
    "plt.title('Accuracy Curves',fontsize=16)\n"
   ]
  },
  {
   "cell_type": "code",
   "execution_count": null,
   "metadata": {},
   "outputs": [],
   "source": [
    "#Evaluate model on test_ds\n",
    "scores = model2.evaluate(test_ds)"
   ]
  },
  {
   "attachments": {},
   "cell_type": "markdown",
   "metadata": {},
   "source": [
    "Run prediction on a sample image"
   ]
  },
  {
   "cell_type": "code",
   "execution_count": null,
   "metadata": {},
   "outputs": [],
   "source": [
    "\n",
    "import numpy as np\n",
    "for images_batch, labels_batch in test_ds.take(1):\n",
    "    \n",
    "    first_image = images_batch[0].numpy().astype('uint8')\n",
    "    first_label = labels_batch[0].numpy()\n",
    "    \n",
    "    print(\"first image to predict\")\n",
    "    plt.imshow(first_image)\n",
    "    print(\"actual label:\",class_names[first_label])\n",
    "    \n",
    "    batch_prediction = model.predict(images_batch)\n",
    "    print(\"predicted label:\",class_names[np.argmax(batch_prediction[0])])"
   ]
  },
  {
   "attachments": {},
   "cell_type": "markdown",
   "metadata": {},
   "source": [
    "Write a function for inference"
   ]
  },
  {
   "cell_type": "code",
   "execution_count": null,
   "metadata": {},
   "outputs": [],
   "source": [
    "def predict(model, img):\n",
    "    img_array = tf.keras.preprocessing.image.img_to_array(img.numpy())\n",
    "    img_array = tf.expand_dims(img_array, 0)\n",
    "\n",
    "    predictions = model.predict(img_array)\n",
    "\n",
    "    predicted_class = class_names[np.argmax(predictions[0])]\n",
    "    confidence = round(100 * (np.max(predictions[0])), 2)\n",
    "    return predicted_class, confidence\n"
   ]
  },
  {
   "attachments": {},
   "cell_type": "markdown",
   "metadata": {},
   "source": [
    "Now run inference on few sample images"
   ]
  },
  {
   "cell_type": "code",
   "execution_count": null,
   "metadata": {},
   "outputs": [],
   "source": [
    "plt.figure(figsize=(15, 15))\n",
    "for images, labels in test_ds.take(1):\n",
    "    for i in range(9):\n",
    "        ax = plt.subplot(3, 3, i + 1)\n",
    "        plt.imshow(images[i].numpy().astype(\"uint8\"))\n",
    "        \n",
    "        predicted_class, confidence = predict(model, images[i])\n",
    "        actual_class = class_names[labels[i]] \n",
    "        \n",
    "        plt.title(f\"Actual: {actual_class},\\n Predicted: {predicted_class}.\\n Confidence: {confidence}%\")\n",
    "        \n",
    "        plt.axis(\"off\")"
   ]
  },
  {
   "attachments": {},
   "cell_type": "markdown",
   "metadata": {},
   "source": [
    "<h3><b>Using the ResNet50 transfer learning model with weight regularization to prevent overfitting</b></h3>"
   ]
  },
  {
   "attachments": {},
   "cell_type": "markdown",
   "metadata": {},
   "source": [
    "Import all the Dependencies"
   ]
  },
  {
   "cell_type": "code",
   "execution_count": null,
   "metadata": {},
   "outputs": [],
   "source": [
    "import tensorflow as tf\n",
    "from tensorflow.keras import models, layers\n",
    "import matplotlib.pyplot as plt"
   ]
  },
  {
   "attachments": {},
   "cell_type": "markdown",
   "metadata": {},
   "source": [
    "Set all the Constants"
   ]
  },
  {
   "cell_type": "code",
   "execution_count": null,
   "metadata": {},
   "outputs": [],
   "source": [
    "BATCH_SIZE = 32\n",
    "IMAGE_SIZE = 128\n",
    "CHANNELS=5\n",
    "EPOCHS=30"
   ]
  },
  {
   "attachments": {},
   "cell_type": "markdown",
   "metadata": {},
   "source": [
    "Import data into tensorflow dataset object"
   ]
  },
  {
   "cell_type": "code",
   "execution_count": null,
   "metadata": {},
   "outputs": [],
   "source": [
    "directory= \"drive/MyDrive/cassava-leaf-disease-classification/train_imgs_folder\"\n",
    "dataset = tf.keras.preprocessing.image_dataset_from_directory(\n",
    "    directory,\n",
    "    seed=123,\n",
    "    shuffle=True,\n",
    "    image_size=(128, 128),\n",
    "    batch_size=32\n",
    ")"
   ]
  },
  {
   "cell_type": "code",
   "execution_count": null,
   "metadata": {},
   "outputs": [],
   "source": [
    "\n",
    "class_names = dataset.class_names\n",
    "class_names"
   ]
  },
  {
   "cell_type": "code",
   "execution_count": null,
   "metadata": {},
   "outputs": [],
   "source": [
    "for image_batch, labels_batch in dataset.take(1):\n",
    "    print(image_batch.shape)\n",
    "    print(labels_batch.numpy())"
   ]
  },
  {
   "attachments": {},
   "cell_type": "markdown",
   "metadata": {},
   "source": [
    "Visualize some of the images from our dataset"
   ]
  },
  {
   "cell_type": "code",
   "execution_count": null,
   "metadata": {},
   "outputs": [],
   "source": [
    "plt.figure(figsize=(10, 10))\n",
    "for image_batch, labels_batch in dataset.take(1):\n",
    "    for i in range(12):\n",
    "        ax = plt.subplot(3, 4, i + 1)\n",
    "        plt.imshow(image_batch[i].numpy().astype(\"uint8\"))\n",
    "        plt.title(class_names[labels_batch[i]])\n",
    "        plt.axis(\"off\")"
   ]
  },
  {
   "attachments": {},
   "cell_type": "markdown",
   "metadata": {},
   "source": [
    "Function to Split Dataset"
   ]
  },
  {
   "cell_type": "code",
   "execution_count": null,
   "metadata": {},
   "outputs": [],
   "source": [
    "def get_dataset_partitions_tf(ds, train_split=0.8, val_split=0.1, test_split=0.1, shuffle=True, shuffle_size=10000):\n",
    "    assert (train_split + test_split + val_split) == 1\n",
    "    \n",
    "    ds_size = len(ds)\n",
    "    \n",
    "    if shuffle:\n",
    "        ds = ds.shuffle(shuffle_size, seed=12)\n",
    "    \n",
    "    train_size = int(train_split * ds_size)\n",
    "    val_size = int(val_split * ds_size)\n",
    "    \n",
    "    train_ds = ds.take(train_size)    \n",
    "    val_ds = ds.skip(train_size).take(val_size)\n",
    "    test_ds = ds.skip(train_size).skip(val_size)\n",
    "    \n",
    "    return train_ds, val_ds, test_ds"
   ]
  },
  {
   "cell_type": "code",
   "execution_count": null,
   "metadata": {},
   "outputs": [],
   "source": [
    "train_ds, val_ds, test_ds = get_dataset_partitions_tf(dataset)"
   ]
  },
  {
   "attachments": {},
   "cell_type": "markdown",
   "metadata": {},
   "source": [
    "Cache, Shuffle, and Prefetch the Dataset"
   ]
  },
  {
   "cell_type": "code",
   "execution_count": null,
   "metadata": {},
   "outputs": [],
   "source": [
    "train_ds = train_ds.cache().shuffle(1000).prefetch(buffer_size=tf.data.AUTOTUNE)\n",
    "val_ds = val_ds.cache().shuffle(1000).prefetch(buffer_size=tf.data.AUTOTUNE)\n",
    "test_ds = test_ds.cache().shuffle(1000).prefetch(buffer_size=tf.data.AUTOTUNE)"
   ]
  },
  {
   "attachments": {},
   "cell_type": "markdown",
   "metadata": {},
   "source": [
    "Function to add weight regularization to the Transfer learning model"
   ]
  },
  {
   "attachments": {},
   "cell_type": "markdown",
   "metadata": {},
   "source": [
    "This code for this function was gotten from this source: @article{ silva2019kerasregularization, title={How to Add Regularization to Keras Pre-trained Models the Right Way}, author={Silva, Thalles Santos}, journal={https://sthalles.github.io}, year={2019} url={https://sthalles.github.io/keras-regularizer/}"
   ]
  },
  {
   "cell_type": "code",
   "execution_count": null,
   "metadata": {},
   "outputs": [],
   "source": [
    "import os\n",
    "import tempfile\n",
    "\n",
    "def add_regularization(model, regularizer=tf.keras.regularizers.l2(0.0001)):\n",
    "\n",
    "    if not isinstance(regularizer, tf.keras.regularizers.Regularizer):\n",
    "      print(\"Regularizer must be a subclass of tf.keras.regularizers.Regularizer\")\n",
    "      return model\n",
    "\n",
    "    for layer in model.layers:\n",
    "        for attr in ['kernel_regularizer']:\n",
    "            if hasattr(layer, attr):\n",
    "              setattr(layer, attr, regularizer)\n",
    "\n",
    "    # When we change the layers attributes, the change only happens in the model config file\n",
    "    model_json = model.to_json()\n",
    "\n",
    "    # Save the weights before reloading the model.\n",
    "    tmp_weights_path = os.path.join(tempfile.gettempdir(), 'tmp_weights.h5')\n",
    "    model.save_weights(tmp_weights_path)\n",
    "\n",
    "    # load the model from the config\n",
    "    model = tf.keras.models.model_from_json(model_json)\n",
    "    \n",
    "    # Reload the model weights\n",
    "    model.load_weights(tmp_weights_path, by_name=True)\n",
    "    return model"
   ]
  },
  {
   "cell_type": "code",
   "execution_count": null,
   "metadata": {},
   "outputs": [],
   "source": [
    "from keras.callbacks import ModelCheckpoint, EarlyStopping, ReduceLROnPlateau, TensorBoard\n",
    "from tensorflow.keras.applications import ResNet50\n",
    "from keras.optimizers import Adam\n",
    "from tensorflow.keras import models, layers\n",
    "\n",
    "\n",
    "model6 = models.Sequential()\n",
    "model6.add(ResNet50(include_top = False, weights = 'imagenet',\n",
    "                             input_shape = (128, 128, 3)))\n",
    "#Add regularization using the function below\n",
    "add_regularization(model6, regularizer=tf.keras.regularizers.l2(0.0001))\n",
    "    \n",
    "model6.add(layers.GlobalAveragePooling2D())\n",
    "model6.add(layers.Dense(5, activation = \"softmax\"))\n",
    "\n",
    "model6.compile(optimizer = Adam(lr = 0.001),\n",
    "                  loss = \"sparse_categorical_crossentropy\",\n",
    "                  metrics = [\"acc\"])\n",
    "\n",
    "model6.summary()"
   ]
  },
  {
   "cell_type": "code",
   "execution_count": null,
   "metadata": {},
   "outputs": [],
   "source": [
    "import datetime\n",
    "import tensorflow as tf\n",
    "log_dir = \"logs/fit/\" + datetime.datetime.now().strftime(\"%Y%m%d-%H%M%S\")\n",
    "\n",
    "tensorboard_callback6 = tf.keras.callbacks.TensorBoard(log_dir=log_dir, histogram_freq=1)\n",
    "model6_save = ModelCheckpoint('./best_baseline_model6.h5', \n",
    "                             save_best_only = True, \n",
    "                             save_weights_only = True,\n",
    "                             monitor = 'val_loss', \n",
    "                             mode = 'min', verbose = 1)\n",
    "early_stop6 = EarlyStopping(monitor = 'val_loss', min_delta = 0.001, \n",
    "                           patience = 5, mode = 'min', verbose = 1,\n",
    "                           restore_best_weights = True)\n",
    "reduce_lr6 = ReduceLROnPlateau(monitor = 'val_loss', factor = 0.3, \n",
    "                              patience = 2, min_delta = 0.001, \n",
    "                              mode = 'min', verbose = 1)"
   ]
  },
  {
   "attachments": {},
   "cell_type": "markdown",
   "metadata": {},
   "source": [
    "the training and plots"
   ]
  },
  {
   "cell_type": "code",
   "execution_count": null,
   "metadata": {},
   "outputs": [],
   "source": [
    "history= model6.fit(train_ds,\n",
    "                    validation_data= val_ds,\n",
    "                    batch_size=BATCH_SIZE,\n",
    "                    #steps_per_epoch= len(df_train) * 0.8/BATCH_SIZE,\n",
    "                    #validation_steps= len(df_train) * 0.2/BATCH_SIZE,\n",
    "                    verbose=1,\n",
    "                    epochs= 30,\n",
    "                    callbacks = [tensorboard_callback6, model6_save, early_stop6, reduce_lr6])\n",
    "\n",
    "\n",
    "# Save the entire model as a SavedModel.\n",
    "model6.save(\"drive/MyDrive/cassava-leaf-disease-classification/saved_model/my_model\")"
   ]
  },
  {
   "cell_type": "code",
   "execution_count": null,
   "metadata": {},
   "outputs": [],
   "source": [
    "#Plot the Graph\n",
    "accuracy = history.history['acc']\n",
    "val_accuracy = history.history['val_acc']\n",
    "loss = history.history['loss']\n",
    "val_loss = history.history['val_loss']\n",
    "\n",
    "\n",
    "# Loss Curves\n",
    "plt.figure(figsize=[8,6])\n",
    "plt.plot(loss,'r',linewidth=3.0)\n",
    "plt.plot(val_loss,'b',linewidth=3.0)\n",
    "plt.legend(['Training loss', 'Validation Loss'],fontsize=18)\n",
    "plt.xlabel('Epochs ',fontsize=16)\n",
    "plt.ylabel('Loss',fontsize=16)\n",
    "plt.title('Loss Curves',fontsize=16)\n",
    "  \n",
    "# Accuracy Curves\n",
    "plt.figure(figsize=[8,6])\n",
    "plt.plot(accuracy,'r',linewidth=3.0)\n",
    "plt.plot(val_accuracy,'b',linewidth=3.0)\n",
    "plt.legend(['Training Accuracy', 'Validation Accuracy'],fontsize=18)\n",
    "plt.xlabel('Epochs ',fontsize=16)\n",
    "plt.ylabel('Accuracy',fontsize=16)\n",
    "plt.title('Accuracy Curves',fontsize=16)\n"
   ]
  },
  {
   "cell_type": "code",
   "execution_count": null,
   "metadata": {},
   "outputs": [],
   "source": [
    "#Evaluate model on test_ds\n",
    "scores = model6.evaluate(test_ds)\n"
   ]
  },
  {
   "attachments": {},
   "cell_type": "markdown",
   "metadata": {},
   "source": [
    "Run prediction on a sample image"
   ]
  },
  {
   "cell_type": "code",
   "execution_count": null,
   "metadata": {},
   "outputs": [],
   "source": [
    "import numpy as np\n",
    "for images_batch, labels_batch in test_ds.take(1):\n",
    "    \n",
    "    first_image = images_batch[0].numpy().astype('uint8')\n",
    "    first_label = labels_batch[0].numpy()\n",
    "    \n",
    "    print(\"first image to predict\")\n",
    "    plt.imshow(first_image)\n",
    "    print(\"actual label:\",class_names[first_label])\n",
    "    \n",
    "    batch_prediction = model6.predict(images_batch)\n",
    "    print(\"predicted label:\",class_names[np.argmax(batch_prediction[0])])"
   ]
  },
  {
   "attachments": {},
   "cell_type": "markdown",
   "metadata": {},
   "source": [
    "Write a function for inference"
   ]
  },
  {
   "cell_type": "code",
   "execution_count": null,
   "metadata": {},
   "outputs": [],
   "source": [
    "import numpy as np\n",
    "def predict(model, img):\n",
    "    img_array = tf.keras.preprocessing.image.img_to_array(img.numpy())\n",
    "    img_array = tf.expand_dims(img_array, 0)\n",
    "\n",
    "    predictions = model.predict(img_array)\n",
    "\n",
    "    #next two lines fofr debugging\n",
    "    print('predictions are ', predictions)\n",
    "    print('predictions[0] are ', predictions[0])\n",
    "    print('index of max element ', np.argmax(predictions[0]))\n",
    "\n",
    "    predicted_class = class_names[np.argmax(predictions[0])]\n",
    "    confidence = round(100 * (np.max(predictions[0])), 2)\n",
    "    return predicted_class, confidence"
   ]
  },
  {
   "attachments": {},
   "cell_type": "markdown",
   "metadata": {},
   "source": [
    "Now run inference on few sample images"
   ]
  },
  {
   "cell_type": "code",
   "execution_count": null,
   "metadata": {},
   "outputs": [],
   "source": [
    "plt.figure(figsize=(15, 15))\n",
    "for images, labels in test_ds.take(1):\n",
    "    for i in range(9):\n",
    "        ax = plt.subplot(3, 3, i + 1)\n",
    "        plt.imshow(images[i].numpy().astype(\"uint8\"))\n",
    "        \n",
    "        predicted_class, confidence = predict(model6, images[i])\n",
    "        actual_class = class_names[labels[i]] \n",
    "        \n",
    "        plt.title(f\"Actual: {actual_class},\\n Predicted: {predicted_class}.\\n Confidence: {confidence}%\")\n",
    "        \n",
    "        plt.axis(\"off\")"
   ]
  }
 ],
 "metadata": {
  "kernelspec": {
   "display_name": "base",
   "language": "python",
   "name": "python3"
  },
  "language_info": {
   "name": "python",
   "version": "3.9.13 (main, Aug 25 2022, 23:51:50) [MSC v.1916 64 bit (AMD64)]"
  },
  "orig_nbformat": 4,
  "vscode": {
   "interpreter": {
    "hash": "a077222d77dfe082b8f1dd562ad70e458ac2ab76993a0b248ab0476e32e9e8dd"
   }
  }
 },
 "nbformat": 4,
 "nbformat_minor": 2
}
